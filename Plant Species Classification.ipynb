{
  "nbformat": 4,
  "nbformat_minor": 5,
  "metadata": {
    "kernelspec": {
      "display_name": "Python 3 (ipykernel)",
      "language": "python",
      "name": "python3"
    },
    "language_info": {
      "codemirror_mode": {
        "name": "ipython",
        "version": 3
      },
      "file_extension": ".py",
      "mimetype": "text/x-python",
      "name": "python",
      "nbconvert_exporter": "python",
      "pygments_lexer": "ipython3",
      "version": "3.8.11"
    },
    "colab": {
      "name": "Plant Species Classification.ipynb",
      "provenance": []
    },
    "accelerator": "TPU"
  },
  "cells": [
    {
      "cell_type": "markdown",
      "metadata": {
        "id": "4JcvsKg9x7rP"
      },
      "source": [
        "**Plant Species Classification**"
      ],
      "id": "4JcvsKg9x7rP"
    },
    {
      "cell_type": "code",
      "metadata": {
        "id": "lssl_p_lyK4k",
        "outputId": "12fccab3-590d-47a6-e9ed-9a86fbc2b43a",
        "colab": {
          "base_uri": "https://localhost:8080/"
        }
      },
      "source": [
        "#Mounting drive to retrieve dataset from Drive into Colab\n",
        "from google.colab import drive\n",
        "drive.mount('/content/drive')"
      ],
      "id": "lssl_p_lyK4k",
      "execution_count": 1,
      "outputs": [
        {
          "output_type": "stream",
          "name": "stdout",
          "text": [
            "Mounted at /content/drive\n"
          ]
        }
      ]
    },
    {
      "cell_type": "code",
      "metadata": {
        "id": "stU3GQdkzAII"
      },
      "source": [
        "training_dataset = '/content/drive/MyDrive/Part-1 - Plant Seedling Classification Data/train'"
      ],
      "id": "stU3GQdkzAII",
      "execution_count": 2,
      "outputs": []
    },
    {
      "cell_type": "code",
      "metadata": {
        "id": "AaW7k_QgzUrR",
        "outputId": "f4729b2b-3b94-4774-ee4c-6bc995c75bda",
        "colab": {
          "base_uri": "https://localhost:8080/"
        }
      },
      "source": [
        "#Lets us explore the training dataset\n",
        "import os\n",
        "os.listdir(training_dataset)"
      ],
      "id": "AaW7k_QgzUrR",
      "execution_count": 3,
      "outputs": [
        {
          "output_type": "execute_result",
          "data": {
            "text/plain": [
              "['Black-grass',\n",
              " 'Charlock',\n",
              " 'Cleavers',\n",
              " 'Common Chickweed',\n",
              " 'Common wheat',\n",
              " 'Fat Hen',\n",
              " 'Loose Silky-bent',\n",
              " 'Maize',\n",
              " 'Scentless Mayweed',\n",
              " 'Shepherds Purse',\n",
              " 'Small-flowered Cranesbill',\n",
              " 'Sugar beet']"
            ]
          },
          "metadata": {},
          "execution_count": 3
        }
      ]
    },
    {
      "cell_type": "code",
      "metadata": {
        "id": "BGh-USG3zjWV",
        "outputId": "f0c5e5ca-a7df-4f0a-e90b-8617094004c8",
        "colab": {
          "base_uri": "https://localhost:8080/"
        }
      },
      "source": [
        "#Lets us see how many files we have inside each folder for our training\n",
        "total = 0\n",
        "for plant in os.listdir(training_dataset):\n",
        "  count = len(os.listdir(training_dataset+'/'+plant))\n",
        "  print(\"Number of files in {plant} is {count}\".format(plant = plant, count = count))\n",
        "  total = total+count\n",
        "\n",
        "print('Total number of files is {total}'.format(total = total))"
      ],
      "id": "BGh-USG3zjWV",
      "execution_count": 4,
      "outputs": [
        {
          "output_type": "stream",
          "name": "stdout",
          "text": [
            "Number of files in Black-grass is 263\n",
            "Number of files in Charlock is 390\n",
            "Number of files in Cleavers is 287\n",
            "Number of files in Common Chickweed is 611\n",
            "Number of files in Common wheat is 221\n",
            "Number of files in Fat Hen is 475\n",
            "Number of files in Loose Silky-bent is 671\n",
            "Number of files in Maize is 221\n",
            "Number of files in Scentless Mayweed is 516\n",
            "Number of files in Shepherds Purse is 231\n",
            "Number of files in Small-flowered Cranesbill is 496\n",
            "Number of files in Sugar beet is 385\n",
            "Total number of files is 4767\n"
          ]
        }
      ]
    },
    {
      "cell_type": "code",
      "metadata": {
        "id": "Tz03rhAI3_FG",
        "outputId": "0dcb918a-c088-49cf-d0d9-8a5a15a0b3ff",
        "colab": {
          "base_uri": "https://localhost:8080/"
        }
      },
      "source": [
        "#Lets create a data generator\n",
        "from keras.preprocessing.image import ImageDataGenerator\n",
        "\n",
        "train_datagen = ImageDataGenerator()\n",
        "\n",
        "training_set = train_datagen.flow_from_directory(training_dataset,\n",
        "                                                 target_size = (64, 64),\n",
        "                                                 batch_size = 256,\n",
        "                                                 class_mode = 'categorical')"
      ],
      "id": "Tz03rhAI3_FG",
      "execution_count": 10,
      "outputs": [
        {
          "output_type": "stream",
          "name": "stdout",
          "text": [
            "Found 4767 images belonging to 12 classes.\n"
          ]
        }
      ]
    },
    {
      "cell_type": "code",
      "metadata": {
        "id": "_9AJk8I7boYp"
      },
      "source": [
        "#Lets build a CNN\n",
        "\n",
        "from tensorflow.keras.models import Sequential\n",
        "from tensorflow.keras.layers import Conv2D\n",
        "from tensorflow.keras.layers import MaxPooling2D\n",
        "from tensorflow.keras.layers import Flatten\n",
        "from tensorflow.keras.layers import Dense, Dropout\n",
        "from tensorflow.keras.optimizers import Adam\n",
        "\n",
        "\n",
        "# Initialising the CNN classifier\n",
        "classifier = Sequential()\n",
        "\n",
        "# Add a Convolution layer with 32 kernels of 3X3 shape with activation function ReLU\n",
        "classifier.add(Conv2D(32, (3, 3), input_shape = (64, 64, 3), activation = 'relu', padding = 'same'))\n",
        "\n",
        "# Add a Max Pooling layer of size 2X2\n",
        "classifier.add(MaxPooling2D(pool_size = (2, 2)))\n",
        "\n",
        "# Add another Convolution layer with 32 kernels of 3X3 shape with activation function ReLU\n",
        "classifier.add(Conv2D(32, (3, 3), activation = 'relu', padding = 'same'))\n",
        "\n",
        "# Adding another pooling layer\n",
        "classifier.add(MaxPooling2D(pool_size = (2, 2)))\n",
        "\n",
        "# Add another Convolution layer with 32 kernels of 3X3 shape with activation function ReLU\n",
        "classifier.add(Conv2D(32, (3, 3), activation = 'relu', padding = 'same'))\n",
        "\n",
        "# Adding another pooling layer\n",
        "classifier.add(MaxPooling2D(pool_size = (2, 2)))\n",
        "\n",
        "# Flattening the layer before fully connected layers\n",
        "classifier.add(Flatten())\n",
        "\n",
        "# Adding a fully connected layer with 512 neurons\n",
        "classifier.add(Dense(units = 512, activation = 'relu'))\n",
        "\n",
        "# Adding dropout with probability 0.5\n",
        "classifier.add(Dropout(0.5))\n",
        "\n",
        "\n",
        "# Adding a fully connected layer with 128 neurons\n",
        "classifier.add(Dense(units = 128, activation = 'relu'))\n",
        "\n",
        "\n",
        "# The final output layer with 12 neuron to predict the categorical classifcation\n",
        "classifier.add(Dense(units = 12, activation = 'softmax'))\n",
        "\n",
        "opt = Adam(learning_rate=0.001, beta_1=0.9, beta_2=0.999, epsilon=None, decay=0.001, amsgrad=False)\n",
        "classifier.compile(optimizer = opt, loss = 'categorical_crossentropy', metrics = ['accuracy'])\n"
      ],
      "id": "_9AJk8I7boYp",
      "execution_count": 18,
      "outputs": []
    },
    {
      "cell_type": "code",
      "metadata": {
        "id": "8_Fvwv9-ICYr",
        "outputId": "0d620d55-5987-48ba-ea53-84a7af771da4",
        "colab": {
          "base_uri": "https://localhost:8080/"
        }
      },
      "source": [
        "classifier.fit(training_set, epochs = 10)"
      ],
      "id": "8_Fvwv9-ICYr",
      "execution_count": 19,
      "outputs": [
        {
          "output_type": "stream",
          "name": "stdout",
          "text": [
            "Epoch 1/10\n",
            "19/19 [==============================] - 1288s 67s/step - loss: 7.7093 - accuracy: 0.1106\n",
            "Epoch 2/10\n",
            "19/19 [==============================] - 92s 5s/step - loss: 2.4113 - accuracy: 0.1397\n",
            "Epoch 3/10\n",
            "19/19 [==============================] - 88s 5s/step - loss: 2.3384 - accuracy: 0.1796\n",
            "Epoch 4/10\n",
            "19/19 [==============================] - 94s 5s/step - loss: 2.2246 - accuracy: 0.2477\n",
            "Epoch 5/10\n",
            "19/19 [==============================] - 88s 5s/step - loss: 1.9746 - accuracy: 0.3457\n",
            "Epoch 6/10\n",
            "19/19 [==============================] - 88s 5s/step - loss: 1.5992 - accuracy: 0.4626\n",
            "Epoch 7/10\n",
            "19/19 [==============================] - 88s 5s/step - loss: 1.3124 - accuracy: 0.5572\n",
            "Epoch 8/10\n",
            "19/19 [==============================] - 88s 5s/step - loss: 1.1391 - accuracy: 0.6113\n",
            "Epoch 9/10\n",
            "19/19 [==============================] - 94s 5s/step - loss: 0.9637 - accuracy: 0.6694\n",
            "Epoch 10/10\n",
            "19/19 [==============================] - 88s 5s/step - loss: 0.8505 - accuracy: 0.7088\n"
          ]
        },
        {
          "output_type": "execute_result",
          "data": {
            "text/plain": [
              "<keras.callbacks.History at 0x7fe1c8728bd0>"
            ]
          },
          "metadata": {},
          "execution_count": 19
        }
      ]
    },
    {
      "cell_type": "code",
      "metadata": {
        "id": "tAwMOaspaEwg"
      },
      "source": [
        ""
      ],
      "id": "tAwMOaspaEwg",
      "execution_count": null,
      "outputs": []
    }
  ]
}